{
 "cells": [
  {
   "cell_type": "markdown",
   "metadata": {},
   "source": [
    "The aim of this notebook is to study the enrichment of RBP sites and miRNA binding sites (MREs) in 3UIs using GAT, where the sites come from the ENCORI data. \n",
    "\n",
    "We will use the 3' UTRs from the filtered geneset as the work space, the 3UIs as the intervals and the binding sites as the annotations. \n",
    "\n",
    "Lets start by looking for an overall enrichment in MREs"
   ]
  },
  {
   "cell_type": "code",
   "execution_count": null,
   "metadata": {},
   "outputs": [],
   "source": [
    "%%bash\n",
    "echo \"env test\""
   ]
  },
  {
   "cell_type": "code",
   "execution_count": null,
   "metadata": {},
   "outputs": [],
   "source": [
    "%%bash\n",
    "\n",
    "source ~/.bashrc\n",
    "source activate /shared/sudlab1/General/projects/stem_utrons/envs/stem_utrons\n",
    "\n",
    "gat-run.py --annotations=<(zcat /shared/sudlab1/General/mirror/bindingSites_predictions/mRNA-miRNA_bindingSites/starBaseV3_mRNA_miRNA_hg38.bed.gz \\\n",
    "                           | cut -f1-3) \\\n",
    "           --segment-file=/shared/sudlab1/utrons/TCGA_GTEx/utrons/all_TCGA/new_classification/utron_beds.dir/agg-agg-agg.no_cds.bed.gz \\\n",
    "           --workspace=<(zcat /shared/sudlab1/General/annotations/hg38_noalt_ensembl85/filtered_geneset/FINAL_geneset_all_tsl_1and2_appris_protein_coding.gtf.gz \\\n",
    "                         | awk '$3==\"three_prime_utr\"' \\\n",
    "                         | cgat gff2bed \\\n",
    "                         | cut -f1-3) \\\n",
    "           --ignore-segment-tracks \\\n",
    "           --num-threads=3 \\\n",
    "   > no_cds.all_mre.tsv\n",
    "   \n",
    "cat no_cds.all_mre.tsv\n",
    "  \n"
   ]
  },
  {
   "cell_type": "code",
   "execution_count": null,
   "metadata": {},
   "outputs": [],
   "source": [
    "import pandas\n",
    "pandas.read_csv(\"no_cds.all_mre.tsv\", sep=\"\\t\", comment='#').transpose()"
   ]
  },
  {
   "cell_type": "code",
   "execution_count": null,
   "metadata": {},
   "outputs": [],
   "source": [
    "%%bash \n",
    "source activate /shared/sudlab1/General/projects/stem_utrons/envs/stem_utrons\n",
    "gat-run.py --annotations=<(zcat /shared/sudlab1/General/mirror/bindingSites_predictions/RBPsites/starBaseV3_RBPsites_hg38.bed.gz \\\n",
    "                           | cut -f1-3) \\\n",
    "           --segment-file=/shared/sudlab1/utrons/TCGA_GTEx/utrons/all_TCGA/new_classification/utron_beds.dir/agg-agg-agg.no_cds.bed.gz \\\n",
    "           --workspace=<(zcat /shared/sudlab1/General/annotations/hg38_noalt_ensembl85/filtered_geneset/FINAL_geneset_all_tsl_1and2_appris_protein_coding.gtf.gz \\\n",
    "                         | awk '$3==\"three_prime_utr\"' \\\n",
    "                         | cgat gff2bed \\\n",
    "                         | cut -f1-3) \\\n",
    "           --ignore-segment-tracks \\\n",
    "           --num-threads=3 \\\n",
    "           -S no_cds.all_rbp.tsv\n",
    "   "
   ]
  },
  {
   "cell_type": "code",
   "execution_count": null,
   "metadata": {},
   "outputs": [],
   "source": [
    "import pandas\n",
    "print(\"test\")\n",
    "pandas.read_csv(\"no_cds.all_rbp.tsv\", sep=\"\\t\", comment='#').transpose()"
   ]
  },
  {
   "cell_type": "code",
   "execution_count": null,
   "metadata": {
    "collapsed": true
   },
   "outputs": [],
   "source": [
    "%%bash \n",
    "echo \"test\"\n",
    "\n",
    "gat-run.py --annotations=<(zcat /shared/sudlab1/General/mirror/bindingSites_predictions/RBPsites/starBaseV3_RBPsites_hg38.bed.gz \\\n",
    "                           | sed -E 's/-[0-9]+//') \\\n",
    "           --segment-file=/shared/sudlab1/utrons/TCGA_GTEx/utrons/all_TCGA/new_classification/utron_beds.dir/agg-agg-agg.no_cds.bed.gz \\\n",
    "           --workspace=<(zcat /shared/sudlab1/General/annotations/hg38_noalt_ensembl85/filtered_geneset/FINAL_geneset_all_tsl_1and2_appris_protein_coding.gtf.gz \\\n",
    "                         | awk '$3==\"three_prime_utr\"' \\\n",
    "                         | cgat gff2bed \\\n",
    "                         | cut -f1-3) \\\n",
    "           --ignore-segment-tracks \\\n",
    "           --num-threads=5 \\\n",
    "           -n 10000 \\\n",
    "           -S no_cds.each_rbp.tsv"
   ]
  },
  {
   "cell_type": "code",
   "execution_count": null,
   "metadata": {},
   "outputs": [],
   "source": [
    "each_rbp = pandas.read_csv(\"no_cds.each_rbp.tsv\", sep=\"\\t\")\n",
    "each_rbp[(each_rbp.qvalue<0.05) & (each_rbp.l2fold > 1)][[\"annotation\",\"expected\", \"observed\", \"l2fold\", \"pvalue\", \"qvalue\"]]"
   ]
  },
  {
   "cell_type": "code",
   "execution_count": null,
   "metadata": {},
   "outputs": [],
   "source": [
    "SBDH_reference = pandas.read_csv(\"/shared/sudlab1/General/mirror/bindingSites_predictions/RBPsites/SBDH_files/refData/hg19_clip_ref.txt\", sep=\"\\t\")\n",
    "SBDH_reference.head()"
   ]
  },
  {
   "cell_type": "code",
   "execution_count": null,
   "metadata": {
    "scrolled": true
   },
   "outputs": [],
   "source": [
    "annotated_each_rbp = each_rbp.merge(SBDH_reference[[\"datasetID\", \"GeneSymbol\",\"CellTissue\", \"SeqType\"]], left_on=\"annotation\", right_on=\"datasetID\")\n",
    "print(annotated_each_rbp[(annotated_each_rbp.l2fold > 1) &(annotated_each_rbp.qvalue<0.05)][[\"GeneSymbol\", \n",
    "                                                                                       \"CellTissue\",\n",
    "                                                                                             \"SeqType\",\n",
    "                                                                                      \"l2fold\",\n",
    "                                                                                      \"qvalue\",\n",
    "                                                                                      \"observed\",\n",
    "                                                                                      \"expected\"]].sort_values(\"GeneSymbol\").to_string())"
   ]
  },
  {
   "cell_type": "code",
   "execution_count": null,
   "metadata": {},
   "outputs": [],
   "source": [
    "%load_ext rpy2.ipython"
   ]
  },
  {
   "cell_type": "code",
   "execution_count": null,
   "metadata": {},
   "outputs": [],
   "source": [
    "%%R -i annotated_each_rbp\n",
    "\n",
    "library(ggplot2)\n",
    "library(dplyr)\n",
    "\n",
    "annotated_each_rbp %>%\n",
    "    mutate(qvalue=p.adjust(pvalue, method=\"BH\")) %>%\n",
    "    group_by(GeneSymbol) %>%\n",
    "    summarise(l2fold=mean(l2fold), qvalue=mean(qvalue), CIhigh=mean(log2(CI95high/expected)),\n",
    "                                                        CIlow=mean(log2(CI95low/expected))) %>%\n",
    "    filter(l2fold > 1 & qvalue < 0.01) %>%\n",
    "    ggplot() +\n",
    "    aes(x=reorder(GeneSymbol, l2fold), y=l2fold, ymax=l2fold+CIhigh, ymin=l2fold+CIlow) +\n",
    "    geom_point(stat=\"identity\") + coord_flip() +\n",
    "    geom_errorbar(width=0.25) +\n",
    "    geom_hline(yintercept=0) +\n",
    "    theme_bw(base_size=14) +\n",
    "    xlab(NULL) +\n",
    "    ylab(expression(paste(log[2],\" Fold Enrichment\"))) -> g\n",
    "ggsave(\"enriched_proteins.png\", g)\n",
    "print(g)"
   ]
  },
  {
   "cell_type": "code",
   "execution_count": null,
   "metadata": {},
   "outputs": [],
   "source": [
    "%%bash\n",
    "source activate /shared/sudlab1/General/projects/stem_utrons/envs/stem_utrons\n",
    "\n",
    "gat-run.py --annotations=<(zcat /shared/sudlab1/General/mirror/bindingSites_predictions/mRNA-miRNA_bindingSites/starBaseV3_mRNA_miRNA_hg38.bed.gz \\\n",
    "                           |  sed -E 's/\\t[^\\t]+_/\\t/') \\\n",
    "           --segment-file=/shared/sudlab1/utrons/TCGA_GTEx/utrons/all_TCGA/new_classification/utron_beds.dir/agg-agg-agg.no_cds.bed.gz \\\n",
    "           --workspace=<(zcat /shared/sudlab1/General/annotations/hg38_noalt_ensembl85/filtered_geneset/FINAL_geneset_all_tsl_1and2_appris_protein_coding.gtf.gz \\\n",
    "                         | awk '$3==\"three_prime_utr\"' \\\n",
    "                         | cgat gff2bed \\\n",
    "                         | cut -f1-3) \\\n",
    "           --ignore-segment-tracks \\\n",
    "           --num-threads=4 \\\n",
    "           -S no_cds.each_mre.tsv\n",
    "   "
   ]
  },
  {
   "cell_type": "code",
   "execution_count": null,
   "metadata": {},
   "outputs": [],
   "source": [
    "%%R\n",
    "\n",
    "each_mre <- read.delim(\"no_cds.each_mre.tsv\")\n",
    "each_mre %>%\n",
    "    mutate(qvalue=p.adjust(pvalue, method=\"BH\")) %>%\n",
    "    filter( l2fold > 0.5 & qvalue < 0.01) %>%\n",
    "    ggplot() +\n",
    "    aes(x=reorder(annotation, l2fold), y=l2fold, ymin=l2fold+log2(CI95low/expected), ymax = l2fold+log2(CI95high/expected)) +\n",
    "    geom_point(stat=\"identity\") + coord_flip() +\n",
    "    theme_bw(base_size=14) +\n",
    "    geom_errorbar(width=0.25) +\n",
    "    xlab(NULL) +\n",
    "    geom_hline(yintercept=0) +\n",
    "    ylab(expression(paste(log[2],\" Fold Enrichment\"))) -> g\n",
    "\n",
    "ggsave(\"mre_enrichment.png\", g)\n",
    "print(g)\n"
   ]
  }
 ],
 "metadata": {
  "anaconda-cloud": {},
  "kernelspec": {
   "display_name": "Python [conda env:stem_utrons]",
   "language": "python",
   "name": "conda-env-stem_utrons-py"
  },
  "language_info": {
   "codemirror_mode": {
    "name": "ipython",
    "version": 3
   },
   "file_extension": ".py",
   "mimetype": "text/x-python",
   "name": "python",
   "nbconvert_exporter": "python",
   "pygments_lexer": "ipython3",
   "version": "3.7.8"
  }
 },
 "nbformat": 4,
 "nbformat_minor": 5
}
